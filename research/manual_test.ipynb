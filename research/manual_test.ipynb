{
 "cells": [
  {
   "cell_type": "code",
   "execution_count": 16,
   "metadata": {},
   "outputs": [
    {
     "data": {
      "text/plain": [
       "('roO5VGxOw2s', 0)"
      ]
     },
     "execution_count": 16,
     "metadata": {},
     "output_type": "execute_result"
    }
   ],
   "source": [
    "URL1 = \"https://www.youtube.com/watch?v=roO5VGxOw2s\"\n",
    "URL1.split(\"=\")[-1], 0"
   ]
  },
  {
   "cell_type": "code",
   "execution_count": 17,
   "metadata": {},
   "outputs": [
    {
     "data": {
      "text/plain": [
       "('h4Fwwlam-tY', 0)"
      ]
     },
     "execution_count": 17,
     "metadata": {},
     "output_type": "execute_result"
    }
   ],
   "source": [
    "URL2 = \"https://youtu.be/h4Fwwlam-tY\"\n",
    "URL2.split(\"/\")[-1], 0"
   ]
  },
  {
   "cell_type": "code",
   "execution_count": 18,
   "metadata": {},
   "outputs": [
    {
     "data": {
      "text/plain": [
       "['https://youtu.be/h4Fwwlam-tY?t', '67']"
      ]
     },
     "execution_count": 18,
     "metadata": {},
     "output_type": "execute_result"
    }
   ],
   "source": [
    "URL3 = \"https://youtu.be/h4Fwwlam-tY?t=67\"\n",
    "URL3.split(\"=\")"
   ]
  },
  {
   "cell_type": "code",
   "execution_count": 19,
   "metadata": {},
   "outputs": [
    {
     "data": {
      "text/plain": [
       "['https:', '', 'youtu.be', 'h4Fwwlam-tY?t']"
      ]
     },
     "execution_count": 19,
     "metadata": {},
     "output_type": "execute_result"
    }
   ],
   "source": [
    "URL3.split(\"=\")[0].split(\"/\")"
   ]
  },
  {
   "cell_type": "code",
   "execution_count": 20,
   "metadata": {},
   "outputs": [
    {
     "data": {
      "text/plain": [
       "'h4Fwwlam-tY'"
      ]
     },
     "execution_count": 20,
     "metadata": {},
     "output_type": "execute_result"
    }
   ],
   "source": [
    "URL3.split(\"=\")[0].split(\"/\")[-1][:-2]"
   ]
  },
  {
   "cell_type": "code",
   "execution_count": 21,
   "metadata": {},
   "outputs": [
    {
     "data": {
      "text/plain": [
       "['https://www.youtube.com/watch?v', 'roO5VGxOw2s&t', '60s']"
      ]
     },
     "execution_count": 21,
     "metadata": {},
     "output_type": "execute_result"
    }
   ],
   "source": [
    "URL4 = \"https://www.youtube.com/watch?v=roO5VGxOw2s&t=60s\"\n",
    "URL4.split(\"=\")"
   ]
  },
  {
   "cell_type": "code",
   "execution_count": 22,
   "metadata": {},
   "outputs": [
    {
     "data": {
      "text/plain": [
       "'roO5VGxOw2s'"
      ]
     },
     "execution_count": 22,
     "metadata": {},
     "output_type": "execute_result"
    }
   ],
   "source": [
    "URL4.split(\"=\")[-2][:-2]"
   ]
  },
  {
   "cell_type": "code",
   "execution_count": 23,
   "metadata": {},
   "outputs": [],
   "source": [
    "from IPYNBrenderer import render_Youtube_video"
   ]
  },
  {
   "cell_type": "code",
   "execution_count": 24,
   "metadata": {},
   "outputs": [
    {
     "name": "stdout",
     "output_type": "stream",
     "text": [
      "[2023-07-07 14:29:31,418: INFO: youtube]: video starts at: 0\n",
      "[2023-07-07 14:29:31,466: INFO: youtube]: embed URL: https://www.youtube.com/embed/roO5VGxOw2s?start=0\n"
     ]
    },
    {
     "data": {
      "text/html": [
       "<iframe \n",
       "            width=\"780\" height=\"600\" \n",
       "            src=\"https://www.youtube.com/embed/roO5VGxOw2s?start=0\" \n",
       "            title=\"These Papa Ki Paris Will Shock You | Try Not to Get Scared\" \n",
       "            frameborder=\"0\" \n",
       "            allow=\"accelerometer; \n",
       "            autoplay; \n",
       "            clipboard-write; \n",
       "            encrypted-media; gyroscope; \n",
       "            picture-in-picture; web-share\" allowfullscreen>\n",
       "            </iframe>\n",
       "            "
      ],
      "text/plain": [
       "<IPython.core.display.HTML object>"
      ]
     },
     "metadata": {},
     "output_type": "display_data"
    },
    {
     "data": {
      "text/plain": [
       "'success'"
      ]
     },
     "execution_count": 24,
     "metadata": {},
     "output_type": "execute_result"
    }
   ],
   "source": [
    "render_Youtube_video(URL1)"
   ]
  },
  {
   "cell_type": "code",
   "execution_count": 25,
   "metadata": {},
   "outputs": [
    {
     "name": "stdout",
     "output_type": "stream",
     "text": [
      "[2023-07-07 14:29:32,872: INFO: youtube]: video starts at: 0\n",
      "[2023-07-07 14:29:32,874: INFO: youtube]: embed URL: https://www.youtube.com/embed/h4Fwwlam-tY?start=0\n"
     ]
    },
    {
     "data": {
      "text/html": [
       "<iframe \n",
       "            width=\"780\" height=\"600\" \n",
       "            src=\"https://www.youtube.com/embed/h4Fwwlam-tY?start=0\" \n",
       "            title=\"These Papa Ki Paris Will Shock You | Try Not to Get Scared\" \n",
       "            frameborder=\"0\" \n",
       "            allow=\"accelerometer; \n",
       "            autoplay; \n",
       "            clipboard-write; \n",
       "            encrypted-media; gyroscope; \n",
       "            picture-in-picture; web-share\" allowfullscreen>\n",
       "            </iframe>\n",
       "            "
      ],
      "text/plain": [
       "<IPython.core.display.HTML object>"
      ]
     },
     "metadata": {},
     "output_type": "display_data"
    },
    {
     "data": {
      "text/plain": [
       "'success'"
      ]
     },
     "execution_count": 25,
     "metadata": {},
     "output_type": "execute_result"
    }
   ],
   "source": [
    "render_Youtube_video(URL2)"
   ]
  },
  {
   "cell_type": "code",
   "execution_count": 26,
   "metadata": {},
   "outputs": [
    {
     "name": "stdout",
     "output_type": "stream",
     "text": [
      "[2023-07-07 14:29:33,970: INFO: youtube]: video starts at: 67\n",
      "[2023-07-07 14:29:33,973: INFO: youtube]: embed URL: https://www.youtube.com/embed/h4Fwwlam-tY?start=67\n"
     ]
    },
    {
     "data": {
      "text/html": [
       "<iframe \n",
       "            width=\"780\" height=\"600\" \n",
       "            src=\"https://www.youtube.com/embed/h4Fwwlam-tY?start=67\" \n",
       "            title=\"These Papa Ki Paris Will Shock You | Try Not to Get Scared\" \n",
       "            frameborder=\"0\" \n",
       "            allow=\"accelerometer; \n",
       "            autoplay; \n",
       "            clipboard-write; \n",
       "            encrypted-media; gyroscope; \n",
       "            picture-in-picture; web-share\" allowfullscreen>\n",
       "            </iframe>\n",
       "            "
      ],
      "text/plain": [
       "<IPython.core.display.HTML object>"
      ]
     },
     "metadata": {},
     "output_type": "display_data"
    },
    {
     "data": {
      "text/plain": [
       "'success'"
      ]
     },
     "execution_count": 26,
     "metadata": {},
     "output_type": "execute_result"
    }
   ],
   "source": [
    "render_Youtube_video(URL3)"
   ]
  },
  {
   "cell_type": "code",
   "execution_count": 27,
   "metadata": {},
   "outputs": [
    {
     "name": "stdout",
     "output_type": "stream",
     "text": [
      "[2023-07-07 14:29:34,851: INFO: youtube]: video starts at: 60\n",
      "[2023-07-07 14:29:34,853: INFO: youtube]: embed URL: https://www.youtube.com/embed/roO5VGxOw2s?start=60\n"
     ]
    },
    {
     "data": {
      "text/html": [
       "<iframe \n",
       "            width=\"780\" height=\"600\" \n",
       "            src=\"https://www.youtube.com/embed/roO5VGxOw2s?start=60\" \n",
       "            title=\"These Papa Ki Paris Will Shock You | Try Not to Get Scared\" \n",
       "            frameborder=\"0\" \n",
       "            allow=\"accelerometer; \n",
       "            autoplay; \n",
       "            clipboard-write; \n",
       "            encrypted-media; gyroscope; \n",
       "            picture-in-picture; web-share\" allowfullscreen>\n",
       "            </iframe>\n",
       "            "
      ],
      "text/plain": [
       "<IPython.core.display.HTML object>"
      ]
     },
     "metadata": {},
     "output_type": "display_data"
    },
    {
     "data": {
      "text/plain": [
       "'success'"
      ]
     },
     "execution_count": 27,
     "metadata": {},
     "output_type": "execute_result"
    }
   ],
   "source": [
    "render_Youtube_video(URL4)"
   ]
  },
  {
   "cell_type": "code",
   "execution_count": 28,
   "metadata": {},
   "outputs": [],
   "source": [
    "from IPYNBrenderer.custom_exception import InvalidURLException\n",
    "from IPYNBrenderer.logger import logger\n",
    "\n",
    "def get_time_info(URL: str) -> int:\n",
    "    def _verify_vid_id_len(vid_id, __expected_len=11):\n",
    "        len_of_vid_id = len(vid_id)\n",
    "        if len_of_vid_id != __expected_len:\n",
    "            raise InvalidURLException(\n",
    "                f\"Invalid video id with length: {len_of_vid_id}, expected: {__expected_len}\"\n",
    "            )\n",
    "\n",
    "    try:\n",
    "        split_val = URL.split(\"=\")\n",
    "        if len(split_val) > 3:\n",
    "            raise InvalidURLException\n",
    "        if \"watch\" in URL:\n",
    "            if \"&t\" in URL:\n",
    "                vid_id, time = split_val[-2][:-2], int(split_val[-1][:-1])\n",
    "                _verify_vid_id_len(vid_id)\n",
    "                logger.info(f\"video starts at: {time}\")\n",
    "                return time\n",
    "            else:\n",
    "                vid_id, time = split_val[-1], 0\n",
    "                _verify_vid_id_len(vid_id)\n",
    "                logger.info(f\"video starts at: {time}\")\n",
    "                return time\n",
    "        else:\n",
    "            if \"=\" in URL and \"?t\" in URL:\n",
    "                vid_id, time = split_val[0].split(\"/\")[-1][:-2], int(split_val[-1])\n",
    "                _verify_vid_id_len(vid_id)\n",
    "                logger.info(f\"video starts at: {time}\")\n",
    "                return time\n",
    "            else:\n",
    "                vid_id, time = URL.split(\"/\")[-1], 0\n",
    "                _verify_vid_id_len(vid_id)\n",
    "                logger.info(f\"video starts at: {time}\")\n",
    "                return time\n",
    "    except Exception:\n",
    "        raise InvalidURLException"
   ]
  },
  {
   "cell_type": "code",
   "execution_count": 32,
   "metadata": {},
   "outputs": [
    {
     "ename": "InvalidURLException",
     "evalue": "URL is invalid",
     "output_type": "error",
     "traceback": [
      "\u001b[1;31m---------------------------------------------------------------------------\u001b[0m",
      "\u001b[1;31mInvalidURLException\u001b[0m                       Traceback (most recent call last)",
      "Cell \u001b[1;32mIn[28], line 15\u001b[0m, in \u001b[0;36mget_time_info\u001b[1;34m(URL)\u001b[0m\n\u001b[0;32m     14\u001b[0m \u001b[39mif\u001b[39;00m \u001b[39mlen\u001b[39m(split_val) \u001b[39m>\u001b[39m \u001b[39m3\u001b[39m:\n\u001b[1;32m---> 15\u001b[0m     \u001b[39mraise\u001b[39;00m InvalidURLException\n\u001b[0;32m     16\u001b[0m \u001b[39mif\u001b[39;00m \u001b[39m\"\u001b[39m\u001b[39mwatch\u001b[39m\u001b[39m\"\u001b[39m \u001b[39min\u001b[39;00m URL:\n",
      "\u001b[1;31mInvalidURLException\u001b[0m: URL is invalid",
      "\nDuring handling of the above exception, another exception occurred:\n",
      "\u001b[1;31mInvalidURLException\u001b[0m                       Traceback (most recent call last)",
      "Cell \u001b[1;32mIn[32], line 1\u001b[0m\n\u001b[1;32m----> 1\u001b[0m get_time_info(\u001b[39m\"\u001b[39;49m\u001b[39mhttps://www.youtube.com/watch?v==roO5VGxOw2s&t=22s\u001b[39;49m\u001b[39m\"\u001b[39;49m)\n",
      "Cell \u001b[1;32mIn[28], line 39\u001b[0m, in \u001b[0;36mget_time_info\u001b[1;34m(URL)\u001b[0m\n\u001b[0;32m     37\u001b[0m             \u001b[39mreturn\u001b[39;00m time\n\u001b[0;32m     38\u001b[0m \u001b[39mexcept\u001b[39;00m \u001b[39mException\u001b[39;00m:\n\u001b[1;32m---> 39\u001b[0m     \u001b[39mraise\u001b[39;00m InvalidURLException\n",
      "\u001b[1;31mInvalidURLException\u001b[0m: URL is invalid"
     ]
    }
   ],
   "source": [
    "get_time_info(\"https://www.youtube.com/watch?v==roO5VGxOw2s&t=22s\")"
   ]
  },
  {
   "cell_type": "code",
   "execution_count": 34,
   "metadata": {},
   "outputs": [],
   "source": [
    "from IPYNBrenderer import render_site\n",
    "from IPYNBrenderer.custom_exception import InvalidURLException"
   ]
  },
  {
   "cell_type": "code",
   "execution_count": 35,
   "metadata": {},
   "outputs": [
    {
     "data": {
      "text/html": [
       "\n",
       "        <iframe\n",
       "            width=\"100%\"\n",
       "            height=\"600\"\n",
       "            src=\"http://pytorch.org/\"\n",
       "            frameborder=\"0\"\n",
       "            allowfullscreen\n",
       "            \n",
       "        ></iframe>\n",
       "        "
      ],
      "text/plain": [
       "<IPython.lib.display.IFrame at 0x2520e08a220>"
      ]
     },
     "metadata": {},
     "output_type": "display_data"
    },
    {
     "data": {
      "text/plain": [
       "'success'"
      ]
     },
     "execution_count": 35,
     "metadata": {},
     "output_type": "execute_result"
    }
   ],
   "source": [
    "URL = \"http://pytorch.org/\"\n",
    "render_site(URL)"
   ]
  },
  {
   "cell_type": "code",
   "execution_count": 33,
   "metadata": {},
   "outputs": [
    {
     "name": "stdout",
     "output_type": "stream",
     "text": [
      "[2023-07-07 14:32:18,917: ERROR: site]: <urlopen error [Errno 11001] getaddrinfo failed>\n",
      "Traceback (most recent call last):\n",
      "  File \"e:\\Project INEURON\\ipynb-renderer\\venv\\lib\\urllib\\request.py\", line 1346, in do_open\n",
      "    h.request(req.get_method(), req.selector, req.data, headers,\n",
      "  File \"e:\\Project INEURON\\ipynb-renderer\\venv\\lib\\http\\client.py\", line 1285, in request\n",
      "    self._send_request(method, url, body, headers, encode_chunked)\n",
      "  File \"e:\\Project INEURON\\ipynb-renderer\\venv\\lib\\http\\client.py\", line 1331, in _send_request\n",
      "    self.endheaders(body, encode_chunked=encode_chunked)\n",
      "  File \"e:\\Project INEURON\\ipynb-renderer\\venv\\lib\\http\\client.py\", line 1280, in endheaders\n",
      "    self._send_output(message_body, encode_chunked=encode_chunked)\n",
      "  File \"e:\\Project INEURON\\ipynb-renderer\\venv\\lib\\http\\client.py\", line 1040, in _send_output\n",
      "    self.send(msg)\n",
      "  File \"e:\\Project INEURON\\ipynb-renderer\\venv\\lib\\http\\client.py\", line 980, in send\n",
      "    self.connect()\n",
      "  File \"e:\\Project INEURON\\ipynb-renderer\\venv\\lib\\http\\client.py\", line 946, in connect\n",
      "    self.sock = self._create_connection(\n",
      "  File \"e:\\Project INEURON\\ipynb-renderer\\venv\\lib\\socket.py\", line 823, in create_connection\n",
      "    for res in getaddrinfo(host, port, 0, SOCK_STREAM):\n",
      "  File \"e:\\Project INEURON\\ipynb-renderer\\venv\\lib\\socket.py\", line 954, in getaddrinfo\n",
      "    for res in _socket.getaddrinfo(host, port, family, type, proto, flags):\n",
      "socket.gaierror: [Errno 11001] getaddrinfo failed\n",
      "\n",
      "During handling of the above exception, another exception occurred:\n",
      "\n",
      "Traceback (most recent call last):\n",
      "  File \"E:\\Project INEURON\\ipynb-renderer\\src\\IPYNBrenderer\\site.py\", line 10, in is_valid\n",
      "    response_status = urllib.request.urlopen(URL).getcode()\n",
      "  File \"e:\\Project INEURON\\ipynb-renderer\\venv\\lib\\urllib\\request.py\", line 214, in urlopen\n",
      "    return opener.open(url, data, timeout)\n",
      "  File \"e:\\Project INEURON\\ipynb-renderer\\venv\\lib\\urllib\\request.py\", line 517, in open\n",
      "    response = self._open(req, data)\n",
      "  File \"e:\\Project INEURON\\ipynb-renderer\\venv\\lib\\urllib\\request.py\", line 534, in _open\n",
      "    result = self._call_chain(self.handle_open, protocol, protocol +\n",
      "  File \"e:\\Project INEURON\\ipynb-renderer\\venv\\lib\\urllib\\request.py\", line 494, in _call_chain\n",
      "    result = func(*args)\n",
      "  File \"e:\\Project INEURON\\ipynb-renderer\\venv\\lib\\urllib\\request.py\", line 1375, in http_open\n",
      "    return self.do_open(http.client.HTTPConnection, req)\n",
      "  File \"e:\\Project INEURON\\ipynb-renderer\\venv\\lib\\urllib\\request.py\", line 1349, in do_open\n",
      "    raise URLError(err)\n",
      "urllib.error.URLError: <urlopen error [Errno 11001] getaddrinfo failed>\n"
     ]
    },
    {
     "ename": "InvalidURLException",
     "evalue": "URL is invalid",
     "output_type": "error",
     "traceback": [
      "\u001b[1;31m---------------------------------------------------------------------------\u001b[0m",
      "\u001b[1;31mInvalidURLException\u001b[0m                       Traceback (most recent call last)",
      "Cell \u001b[1;32mIn[33], line 2\u001b[0m\n\u001b[0;32m      1\u001b[0m URL \u001b[39m=\u001b[39m \u001b[39m\"\u001b[39m\u001b[39mhttp://pytorch\u001b[39m\u001b[39m\"\u001b[39m\n\u001b[1;32m----> 2\u001b[0m render_site(URL)\n",
      "File \u001b[1;32me:\\Project INEURON\\ipynb-renderer\\venv\\lib\\site-packages\\ensure\\main.py:849\u001b[0m, in \u001b[0;36mWrappedFunctionReturn.__call__\u001b[1;34m(self, *args, **kwargs)\u001b[0m\n\u001b[0;32m    841\u001b[0m         msg \u001b[39m=\u001b[39m (\n\u001b[0;32m    842\u001b[0m             \u001b[39m\"\u001b[39m\u001b[39mArgument \u001b[39m\u001b[39m{arg}\u001b[39;00m\u001b[39m of type \u001b[39m\u001b[39m{valt}\u001b[39;00m\u001b[39m to \u001b[39m\u001b[39m{f}\u001b[39;00m\u001b[39m \u001b[39m\u001b[39m\"\u001b[39m\n\u001b[0;32m    843\u001b[0m             \u001b[39m\"\u001b[39m\u001b[39mdoes not match annotation type \u001b[39m\u001b[39m{t}\u001b[39;00m\u001b[39m\"\u001b[39m\n\u001b[0;32m    844\u001b[0m         )\n\u001b[0;32m    845\u001b[0m         \u001b[39mraise\u001b[39;00m EnsureError(msg\u001b[39m.\u001b[39mformat(\n\u001b[0;32m    846\u001b[0m             arg\u001b[39m=\u001b[39marg, f\u001b[39m=\u001b[39m\u001b[39mself\u001b[39m\u001b[39m.\u001b[39mf, t\u001b[39m=\u001b[39mtempl, valt\u001b[39m=\u001b[39m\u001b[39mtype\u001b[39m(value)\n\u001b[0;32m    847\u001b[0m         ))\n\u001b[1;32m--> 849\u001b[0m return_val \u001b[39m=\u001b[39m \u001b[39mself\u001b[39m\u001b[39m.\u001b[39mf(\u001b[39m*\u001b[39margs, \u001b[39m*\u001b[39m\u001b[39m*\u001b[39mkwargs)\n\u001b[0;32m    850\u001b[0m \u001b[39mif\u001b[39;00m \u001b[39mnot\u001b[39;00m \u001b[39misinstance\u001b[39m(return_val, \u001b[39mself\u001b[39m\u001b[39m.\u001b[39mreturn_templ):\n\u001b[0;32m    851\u001b[0m     msg \u001b[39m=\u001b[39m (\n\u001b[0;32m    852\u001b[0m         \u001b[39m\"\u001b[39m\u001b[39mReturn value of \u001b[39m\u001b[39m{f}\u001b[39;00m\u001b[39m of type \u001b[39m\u001b[39m{valt}\u001b[39;00m\u001b[39m \u001b[39m\u001b[39m\"\u001b[39m\n\u001b[0;32m    853\u001b[0m         \u001b[39m\"\u001b[39m\u001b[39mdoes not match annotation type \u001b[39m\u001b[39m{t}\u001b[39;00m\u001b[39m\"\u001b[39m\n\u001b[0;32m    854\u001b[0m     )\n",
      "File \u001b[1;32mE:\\Project INEURON\\ipynb-renderer\\src\\IPYNBrenderer\\site.py:29\u001b[0m, in \u001b[0;36mrender_site\u001b[1;34m(URL, width, height)\u001b[0m\n\u001b[0;32m     27\u001b[0m         \u001b[39mraise\u001b[39;00m InvalidURLException\n\u001b[0;32m     28\u001b[0m \u001b[39mexcept\u001b[39;00m \u001b[39mException\u001b[39;00m \u001b[39mas\u001b[39;00m e:\n\u001b[1;32m---> 29\u001b[0m     \u001b[39mraise\u001b[39;00m e\n",
      "File \u001b[1;32mE:\\Project INEURON\\ipynb-renderer\\src\\IPYNBrenderer\\site.py:27\u001b[0m, in \u001b[0;36mrender_site\u001b[1;34m(URL, width, height)\u001b[0m\n\u001b[0;32m     25\u001b[0m         \u001b[39mreturn\u001b[39;00m \u001b[39m\"\u001b[39m\u001b[39msuccess\u001b[39m\u001b[39m\"\u001b[39m\n\u001b[0;32m     26\u001b[0m     \u001b[39melse\u001b[39;00m:\n\u001b[1;32m---> 27\u001b[0m         \u001b[39mraise\u001b[39;00m InvalidURLException\n\u001b[0;32m     28\u001b[0m \u001b[39mexcept\u001b[39;00m \u001b[39mException\u001b[39;00m \u001b[39mas\u001b[39;00m e:\n\u001b[0;32m     29\u001b[0m     \u001b[39mraise\u001b[39;00m e\n",
      "\u001b[1;31mInvalidURLException\u001b[0m: URL is invalid"
     ]
    }
   ],
   "source": [
    "URL = \"http://pytorch\"\n",
    "render_site(URL)"
   ]
  },
  {
   "cell_type": "code",
   "execution_count": null,
   "metadata": {},
   "outputs": [],
   "source": []
  }
 ],
 "metadata": {
  "kernelspec": {
   "display_name": "Python 3",
   "language": "python",
   "name": "python3"
  },
  "language_info": {
   "codemirror_mode": {
    "name": "ipython",
    "version": 3
   },
   "file_extension": ".py",
   "mimetype": "text/x-python",
   "name": "python",
   "nbconvert_exporter": "python",
   "pygments_lexer": "ipython3",
   "version": "3.9.17"
  },
  "orig_nbformat": 4
 },
 "nbformat": 4,
 "nbformat_minor": 2
}
